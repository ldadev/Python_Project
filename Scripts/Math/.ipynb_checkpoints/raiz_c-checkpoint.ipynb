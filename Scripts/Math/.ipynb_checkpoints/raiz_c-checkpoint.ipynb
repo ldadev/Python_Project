{
 "cells": [
  {
   "cell_type": "markdown",
   "id": "offshore-peter",
   "metadata": {},
   "source": [
    "\\# RAIZ CUADRADA MEDIANTE EL BINOMIO DE NEWTON\n",
    "\n",
    "\n",
    "¿Cuál es la raiz cuadrada del número ingresado por el usuario?\n",
    "\n",
    "\\begin{equation}\n",
    "x=\\frac{n}{2}\n",
    "\\end{equation}\n",
    "\n",
    "\\begin{equation}\n",
    "y=\\left(\\frac{x^2+n}{2x}\\right)\n",
    "\\end{equation}\n",
    "\n",
    "\\begin{equation}\n",
    "e=y^2-n\n",
    "\\end{equation}\n",
    "\n",
    "$x=y$ mientras:\n",
    "\\begin{equation}\n",
    "e=0.005\n",
    "\\end{equation}\n",
    "\n",
    "\n"
   ]
  },
  {
   "cell_type": "code",
   "execution_count": 2,
   "id": "graphic-annual",
   "metadata": {},
   "outputs": [
    {
     "name": "stdout",
     "output_type": "stream",
     "text": [
      "Ingrese un número para hallar la raíz cuadrada o enter para salir:100\n",
      "# Error de iteracción  Raiz\n",
      "1       576.0           26.0   \n",
      "2      122.6982       14.9231  \n",
      "3      16.9005        10.8121  \n",
      "4       0.6108        10.0305  \n",
      "5       0.0009          10.0   \n",
      "La raiz cuadrada de 100 es  10.0, despues de 5 iteracciones\n",
      "\n",
      "¿Desea continuar s/n>>?n\n"
     ]
    }
   ],
   "source": [
    "import os\n",
    "#numero = n\n",
    "\n",
    "os.system('clear')\n",
    "def entrada_num():\n",
    "    while True:\n",
    "        n = input('Ingrese un número para hallar la raíz cuadrada o enter para salir:').lower() or exit()\n",
    "        try:\n",
    "            if int(n) > 0:\n",
    "                return int(n)\n",
    "            else:\n",
    "                print('Sólo números positivos. Intentalo de nuevo.')\n",
    "            \n",
    "        except(ValueError):\n",
    "            print('Entrada invalida. Sólo números.')\n",
    "            \n",
    "sqrt_script = False\n",
    "while not sqrt_script:\n",
    "    \n",
    "    n = entrada_num()\n",
    "    x = n/2\n",
    "    y = x\n",
    "    e = 0.006\n",
    "    c = 0\n",
    "    print('# Error de iteracción  Raiz')\n",
    "    while e > 0.005:\n",
    "        c+=1\n",
    "        x = y\n",
    "        y = (x**2 + n)/(x*2)\n",
    "        e = y**2 - n\n",
    "        print('{:^1}{:^20}{:^10}'\n",
    "              .format(c,round(e,4),round(y,4)))\n",
    "        if round(e,2) == 0.0:\n",
    "            print('La raiz cuadrada de {0} es  {1}, despues de {2} iteracciones'\n",
    "                  .format(n,round(y,2),c))\n",
    "    print()\n",
    "    continuar = input('¿Desea continuar s/n>>?')\n",
    "    if continuar.lower() == 'n':\n",
    "        sqrt_script = True\n",
    "        os.system('clear')"
   ]
  }
 ],
 "metadata": {
  "kernelspec": {
   "display_name": "Python 3",
   "language": "python",
   "name": "python3"
  },
  "language_info": {
   "codemirror_mode": {
    "name": "ipython",
    "version": 3
   },
   "file_extension": ".py",
   "mimetype": "text/x-python",
   "name": "python",
   "nbconvert_exporter": "python",
   "pygments_lexer": "ipython3",
   "version": "3.6.9"
  }
 },
 "nbformat": 4,
 "nbformat_minor": 5
}
